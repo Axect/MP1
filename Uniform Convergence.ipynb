{
 "cells": [
  {
   "cell_type": "markdown",
   "metadata": {
    "deletable": true,
    "editable": true
   },
   "source": [
    "# Uniform Convergence\n",
    "<div style=\"text-align: right\"> Axect </div>\n",
    "*****\n",
    "## 1. Definition\n",
    "### 1-1. Pointwise Convergence\n",
    "\n",
    "> Given any $x$ in $E$, given any $\\epsilon > 0$, $\\exists N = N(x,\\epsilon)\\in \\mathbb{N}$ such that $|f_n(x) - f(x)| < \\epsilon$ for every $n > N$\n",
    "\n",
    "### 1-2. Uniform Convergence\n",
    "\n",
    "> Given any $\\epsilon>0$, $\\exists N = N(\\epsilon)\\in \\mathbb{N}$ such that $|f_n(x) - f(x)|<\\epsilon$ for any $n>N$ and $\\forall x \\in E$\n",
    "\n",
    "## 2. Differences\n",
    "\n",
    "### Example 1\n",
    "<img src=\"https://upload.wikimedia.org/wikipedia/commons/thumb/0/0e/Sawtooth_Fourier_Analysis.JPG/280px-Sawtooth_Fourier_Analysis.JPG\"\n",
    "style=\"width=700px;height=300px\">\n",
    "\n",
    "> This is an example of uniform convergence.  \n",
    "> Every point of fourier series uniformly converge to function.\n",
    "\n",
    "### Example 2\n",
    "\\begin{equation}\n",
    "f_n(x)=\n",
    "\\begin{cases}\n",
    "-nx + 1 \\quad (0<x<\\frac{1}{n}) \\\\\n",
    "0 \\quad (x \\geq \\frac{1}{n})\n",
    "\\end{cases}\n",
    "\\end{equation}\n",
    "\n",
    "> It is pointwise convergent, but not uniformly convergent.\n",
    "\n",
    "## 3. How to find?\n",
    "\n",
    "### Weierstrauss M test\n",
    "\n",
    "> Sps $|f_n(x)| \\leq M_n \\quad \\forall n \\in \\mathbb{N},\\, \\forall x \\in E$  \n",
    "> Then $\\sum f_n$ converges uniformly on $E$ if $\\sum M_n$ converges. "
   ]
  },
  {
   "cell_type": "code",
   "execution_count": null,
   "metadata": {
    "collapsed": true
   },
   "outputs": [],
   "source": []
  }
 ],
 "metadata": {
  "kernelspec": {
   "display_name": "Python 3",
   "language": "python",
   "name": "python3"
  },
  "language_info": {
   "codemirror_mode": {
    "name": "ipython",
    "version": 3
   },
   "file_extension": ".py",
   "mimetype": "text/x-python",
   "name": "python",
   "nbconvert_exporter": "python",
   "pygments_lexer": "ipython3",
   "version": "3.6.0"
  }
 },
 "nbformat": 4,
 "nbformat_minor": 2
}
