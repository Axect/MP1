{
 "cells": [
  {
   "cell_type": "markdown",
   "metadata": {
    "slideshow": {
     "slide_type": "notes"
    }
   },
   "source": [
    "# <div style=\"text-align: center\"> Linear equation </div>\n",
    "<div style=\"text-align: right\"> Axect </div>\n",
    "*****\n",
    "## 1. Rules\n",
    "\n",
    "* No package\n",
    "* Cofactor Expansion\n",
    "* Kramer's Rule\n",
    "\n",
    "## 2. Codes\n",
    "\n",
    "```python\n",
    "class Determinant(object):\n",
    "    def __init__(self, A):\n",
    "        self.A = A[:]\n",
    "        self.l = len(A)\n",
    "    \n",
    "    def keygen(self):\n",
    "        if self.l == 1:\n",
    "            self.key = True\n",
    "        else:\n",
    "            self.key = False\n",
    "        return self.key\n",
    "    \n",
    "    def Calc(self):\n",
    "        s = 0\n",
    "        T = self.A[:]\n",
    "        del(T[0])\n",
    "        for i, element in enumerate(self.A[0]):\n",
    "            S = T[:]\n",
    "            for j, row in enumerate(T):\n",
    "                S[j] = row[:i] + row[(i+1):]\n",
    "            Coeff = element * (-1) ** (i)\n",
    "            C = Determinant(S)\n",
    "            if C.keygen():\n",
    "                s += Coeff * S[0][0]\n",
    "            else:\n",
    "                s += Coeff * C.Calc()\n",
    "        return s\n",
    "\n",
    "    \n",
    "def Solver(A, B):\n",
    "    D = Determinant(A).Calc()\n",
    "    T = A[:]\n",
    "    K = A[:]\n",
    "    for i in range(len(A[0])):\n",
    "        S = T[:]\n",
    "        for j, row in enumerate(T):\n",
    "            S[j] = row[:i] + [B[j]] + row[(i+1):]\n",
    "        K[i] = Determinant(S).Calc()\n",
    "    W = [i/D for i in K]\n",
    "    return W\n",
    "```\n",
    "\n",
    "## 3. Examples\n",
    "\n",
    "<img src=\"http://www.nabla.hr/SystOfTwoEqDetEx.gif\"\n",
    "style=\"width:700px;height:300px\">"
   ]
  },
  {
   "cell_type": "code",
   "execution_count": 1,
   "metadata": {
    "collapsed": true
   },
   "outputs": [],
   "source": [
    "class Determinant(object):\n",
    "    def __init__(self, A):\n",
    "        self.A = A[:]\n",
    "        self.l = len(A)\n",
    "    \n",
    "    def keygen(self):\n",
    "        if self.l == 1:\n",
    "            self.key = True\n",
    "        else:\n",
    "            self.key = False\n",
    "        return self.key\n",
    "    \n",
    "    def Calc(self):\n",
    "        s = 0\n",
    "        T = self.A[:]\n",
    "        del(T[0])\n",
    "        for i, element in enumerate(self.A[0]):\n",
    "            S = T[:]\n",
    "            for j, row in enumerate(T):\n",
    "                S[j] = row[:i] + row[(i+1):]\n",
    "            Coeff = element * (-1) ** (i)\n",
    "            C = Determinant(S)\n",
    "            if C.keygen():\n",
    "                s += Coeff * S[0][0]\n",
    "            else:\n",
    "                s += Coeff * C.Calc()\n",
    "        return s\n",
    "\n",
    "    \n",
    "def Solver(A, B):\n",
    "    D = Determinant(A).Calc()\n",
    "    T = A[:]\n",
    "    K = A[:]\n",
    "    for i in range(len(A[0])):\n",
    "        S = T[:]\n",
    "        for j, row in enumerate(T):\n",
    "            S[j] = row[:i] + [B[j]] + row[(i+1):]\n",
    "        K[i] = Determinant(S).Calc()\n",
    "    W = [i/D for i in K]\n",
    "    return W"
   ]
  },
  {
   "cell_type": "code",
   "execution_count": 2,
   "metadata": {
    "collapsed": false
   },
   "outputs": [
    {
     "name": "stdout",
     "output_type": "stream",
     "text": [
      "Answer : \n",
      "[-2.0, 3.0]\n"
     ]
    }
   ],
   "source": [
    "def main():\n",
    "    A = [[2, 1], [4, 3]]\n",
    "    B = [-1, 1]\n",
    "    print(\"Answer : \")\n",
    "    print(Solver(A,B))\n",
    "\n",
    "if __name__ == '__main__':\n",
    "    main()"
   ]
  },
  {
   "cell_type": "markdown",
   "metadata": {},
   "source": [
    "<img src=\"http://www.mathspadilla.com/matII/Unit10-RankRoucheFrobeniusTheoremCarmersRule/rank20.png\"\n",
    "style=\"width:600px;height:300px\">"
   ]
  },
  {
   "cell_type": "code",
   "execution_count": 3,
   "metadata": {
    "collapsed": false
   },
   "outputs": [
    {
     "name": "stdout",
     "output_type": "stream",
     "text": [
      "Answer : \n",
      "[12.0, -21.0, -7.0]\n"
     ]
    }
   ],
   "source": [
    "def main():\n",
    "    A = [[3,2,-1], [1,-1,5], [2,1,0]]\n",
    "    B = [1,-2,3]\n",
    "    print(\"Answer : \")\n",
    "    print(Solver(A,B))\n",
    "\n",
    "if __name__ == '__main__':\n",
    "    main()"
   ]
  },
  {
   "cell_type": "code",
   "execution_count": 4,
   "metadata": {
    "collapsed": false
   },
   "outputs": [
    {
     "data": {
      "text/html": [
       "<script>\n",
       "code_show=true; \n",
       "function code_toggle() {\n",
       " if (code_show){\n",
       " $('div.input').hide();\n",
       " } else {\n",
       " $('div.input').show();\n",
       " }\n",
       " code_show = !code_show\n",
       "} \n",
       "$( document ).ready(code_toggle);\n",
       "</script>\n",
       "<form action=\"javascript:code_toggle()\"><input type=\"submit\" value=\"Click here to toggle on/off the raw code.\"></form>"
      ],
      "text/plain": [
       "<IPython.core.display.HTML object>"
      ]
     },
     "execution_count": 4,
     "metadata": {},
     "output_type": "execute_result"
    }
   ],
   "source": [
    "from IPython.display import HTML\n",
    "\n",
    "HTML('''<script>\n",
    "code_show=true; \n",
    "function code_toggle() {\n",
    " if (code_show){\n",
    " $('div.input').hide();\n",
    " } else {\n",
    " $('div.input').show();\n",
    " }\n",
    " code_show = !code_show\n",
    "} \n",
    "$( document ).ready(code_toggle);\n",
    "</script>\n",
    "<form action=\"javascript:code_toggle()\"><input type=\"submit\" value=\"Click here to toggle on/off the raw code.\"></form>''')"
   ]
  },
  {
   "cell_type": "code",
   "execution_count": null,
   "metadata": {
    "collapsed": true
   },
   "outputs": [],
   "source": []
  }
 ],
 "metadata": {
  "kernelspec": {
   "display_name": "Python 3",
   "language": "python",
   "name": "python3"
  },
  "language_info": {
   "codemirror_mode": {
    "name": "ipython",
    "version": 3
   },
   "file_extension": ".py",
   "mimetype": "text/x-python",
   "name": "python",
   "nbconvert_exporter": "python",
   "pygments_lexer": "ipython3",
   "version": "3.6.0"
  }
 },
 "nbformat": 4,
 "nbformat_minor": 2
}
