{
 "cells": [
  {
   "cell_type": "markdown",
   "metadata": {},
   "source": [
    "# <div style=\"text-align: center\"> Convergence Test</div>\n",
    "<div style=\"text-align: right\"> Axect </div>\n",
    "******\n",
    "## 1. Cauchy Root Test\n",
    "\n",
    "* $(a_n)^{\\frac{1}{n}}\\leq r<1 \\, \\rightarrow$ Convergent\n",
    "* $(a_n)^{\\frac{1}{n}}\\geq 1 \\, \\rightarrow$ Divergent\n",
    "\n",
    "## 2. D'Alembert Ratio Test\n",
    "\n",
    "* $\\dfrac{a_{n+1}}{a_n} < 1 \\, \\rightarrow$ Convergent\n",
    "* $\\dfrac{a_{n+1}}{a_n} > 1 \\, \\rightarrow$ Divergent\n",
    "* $\\dfrac{a_{n+1}}{a_n} = 1 \\, \\rightarrow$ Indeterminate\n",
    "\n",
    "## 3. Cauchy Integral Test\n",
    "\n",
    "** $\\#$ $f(n) = a_n$ is monotonic decreasing **\n",
    "\n",
    "* $\\sum a_n$ converges if $\\displaystyle \\int_1^\\infty f(x)dx$ is finite\n",
    "* $\\sum a_n$ diverges if $\\displaystyle \\int_1^\\infty f(x)dx$ is infinite\n",
    "\n",
    "## 4. Kummer's Test\n",
    "\n",
    "* $\\displaystyle \\sum_n u_n$ converges if $\\displaystyle \\lim_{n \\rightarrow \\infty}\\left(a_n \\dfrac{u_n}{u_{n+1}}-a_{n+1} \\right) \\geq C > 0 $\n",
    "* $\\displaystyle \\sum_n u_n$ diverges if $\\displaystyle \\lim_{n \\rightarrow \\infty}\\left(a_n \\dfrac{u_n}{u_{n+1}}-a_{n+1} \\right) \\leq 0\\, \\& \\, \\sum_n a_n^{-1}$ diverges\n",
    "\n",
    "## 5. Gauss' Test\n",
    "\n",
    "$\\#$ $u_n >0, \\, \\dfrac{u_n}{u_{n+1}} = 1 + \\dfrac{h}{n} + \\dfrac{B(h)}{n^2}$\n",
    "\n",
    "* $h>1 \\, \\rightarrow$ Convergent\n",
    "* $h\\leq 1 \\, \\rightarrow$ Divergent\n",
    "\n",
    "## 6. Leibniz Criterion\n",
    "\n",
    "$\\#$ $a_n >0, \\, a_n$ is monotonically decreasing\n",
    "\n",
    "* $\\displaystyle \\lim_{n \\rightarrow \\infty} a_n \\rightarrow 0 \\, \\Rightarrow \\, \\sum(-1)^n a_n$ is convergent\n",
    "\n",
    "## 7. Uniform Convergence\n",
    "\n",
    "Given any $\\epsilon>0$, $\\exists N = N(\\epsilon)\\in \\mathbb{N}$ such that $\\left|s_n(x) - s(x) \\right|<\\epsilon$ for any $n>N$ and $\\forall x \\in D$\n",
    "\n",
    "## 8. Weierstrauss' M test\n",
    "\n",
    "$\\#$ $\\left| u_i(x) \\right| \\leq M_i$ for all $x\\in D$\n",
    "* If $\\sum M_i$ converges, then $\\sum u_i$ uniformly converges.\n",
    "\n",
    "## 9. Abel's Test\n",
    "\n",
    "$\\#$ $u_n = a_n f_n(x)$\n",
    "\n",
    "1. $\\sum a_n = A$\n",
    "2. $\\forall x \\in D, \\, f_n(x)$ are monotonically decreasing $(f_{n+1}(x) \\leq f_n(x))$\n",
    "3. $\\forall x \\in D, \\, f_n(x)$ are bounded $0\\leq f_n(x) \\leq M$ where $M$ is independent of $x$.\n",
    "\n",
    "    $\\therefore$ Then $\\sum u_n$ converges uniformly."
   ]
  }
 ],
 "metadata": {
  "kernelspec": {
   "display_name": "Python 3",
   "language": "python",
   "name": "python3"
  },
  "language_info": {
   "codemirror_mode": {
    "name": "ipython",
    "version": 3
   },
   "file_extension": ".py",
   "mimetype": "text/x-python",
   "name": "python",
   "nbconvert_exporter": "python",
   "pygments_lexer": "ipython3",
   "version": "3.6.0"
  }
 },
 "nbformat": 4,
 "nbformat_minor": 2
}
